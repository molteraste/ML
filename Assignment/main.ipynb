{
  "nbformat": 4,
  "nbformat_minor": 0,
  "metadata": {
    "colab": {
      "provenance": []
    },
    "kernelspec": {
      "name": "python3",
      "display_name": "Python 3"
    },
    "language_info": {
      "name": "python"
    }
  },
  "cells": [
    {
      "cell_type": "markdown",
      "source": [
        "COMP3010 Assignment,\n",
        "Team Name: 20713634,\n",
        "Leaderboard Score: 0.19553"
      ],
      "metadata": {
        "id": "pLKJUTTzyGK_"
      }
    },
    {
      "cell_type": "markdown",
      "source": [
        "Importing packages"
      ],
      "metadata": {
        "id": "NfJFD6Ozxd4L"
      }
    },
    {
      "cell_type": "code",
      "source": [
        "import numpy as np\n",
        "import xgboost as xgb\n",
        "import pandas as pd\n",
        "import matplotlib.pyplot as plt\n",
        "import seaborn as sns\n",
        "from sklearn.preprocessing import StandardScaler\n",
        "from sklearn.metrics import mean_absolute_percentage_error, r2_score\n",
        "from sklearn.model_selection import train_test_split, KFold, RandomizedSearchCV\n",
        "from sklearn.linear_model import LinearRegression\n",
        "from tensorflow.keras.models import Sequential\n",
        "from tensorflow.keras.layers import Dense, BatchNormalization, Input\n",
        "from tensorflow.keras.optimizers import Adam\n",
        "from tensorflow.keras.callbacks import EarlyStopping\n",
        "from tensorflow.keras.regularizers import l2"
      ],
      "metadata": {
        "id": "8nZpPZVnsw_6"
      },
      "execution_count": 38,
      "outputs": []
    },
    {
      "cell_type": "markdown",
      "source": [
        "Preprocessing Data"
      ],
      "metadata": {
        "id": "tK9-Q6s1xaN9"
      }
    },
    {
      "cell_type": "code",
      "execution_count": 54,
      "metadata": {
        "id": "4rxuzekpx852",
        "collapsed": true,
        "colab": {
          "base_uri": "https://localhost:8080/",
          "height": 400
        },
        "outputId": "4c8563e0-a946-493b-c45b-ea4a2e0676dd"
      },
      "outputs": [
        {
          "output_type": "error",
          "ename": "FileNotFoundError",
          "evalue": "[Errno 2] No such file or directory: 'train.csv'",
          "traceback": [
            "\u001b[0;31m---------------------------------------------------------------------------\u001b[0m",
            "\u001b[0;31mFileNotFoundError\u001b[0m                         Traceback (most recent call last)",
            "\u001b[0;32m<ipython-input-54-afca28c8db50>\u001b[0m in \u001b[0;36m<cell line: 0>\u001b[0;34m()\u001b[0m\n\u001b[1;32m      6\u001b[0m     \u001b[0;32mreturn\u001b[0m \u001b[0mdf\u001b[0m\u001b[0;34m\u001b[0m\u001b[0;34m\u001b[0m\u001b[0m\n\u001b[1;32m      7\u001b[0m \u001b[0;34m\u001b[0m\u001b[0m\n\u001b[0;32m----> 8\u001b[0;31m \u001b[0mX1\u001b[0m \u001b[0;34m=\u001b[0m \u001b[0mload_data\u001b[0m\u001b[0;34m(\u001b[0m\u001b[0;34m'train.csv'\u001b[0m\u001b[0;34m)\u001b[0m\u001b[0;34m\u001b[0m\u001b[0;34m\u001b[0m\u001b[0m\n\u001b[0m\u001b[1;32m      9\u001b[0m \u001b[0;34m\u001b[0m\u001b[0m\n\u001b[1;32m     10\u001b[0m \u001b[0;31m# Data augmentation creating a ratio between Tank width and length\u001b[0m\u001b[0;34m\u001b[0m\u001b[0;34m\u001b[0m\u001b[0m\n",
            "\u001b[0;32m<ipython-input-54-afca28c8db50>\u001b[0m in \u001b[0;36mload_data\u001b[0;34m(file)\u001b[0m\n\u001b[1;32m      3\u001b[0m \u001b[0;31m# Function that loads data from file into dataframe\u001b[0m\u001b[0;34m\u001b[0m\u001b[0;34m\u001b[0m\u001b[0m\n\u001b[1;32m      4\u001b[0m \u001b[0;32mdef\u001b[0m \u001b[0mload_data\u001b[0m\u001b[0;34m(\u001b[0m\u001b[0mfile\u001b[0m\u001b[0;34m)\u001b[0m\u001b[0;34m:\u001b[0m\u001b[0;34m\u001b[0m\u001b[0;34m\u001b[0m\u001b[0m\n\u001b[0;32m----> 5\u001b[0;31m     \u001b[0mdf\u001b[0m \u001b[0;34m=\u001b[0m \u001b[0mpd\u001b[0m\u001b[0;34m.\u001b[0m\u001b[0mread_csv\u001b[0m\u001b[0;34m(\u001b[0m\u001b[0mfile\u001b[0m\u001b[0;34m)\u001b[0m\u001b[0;34m\u001b[0m\u001b[0;34m\u001b[0m\u001b[0m\n\u001b[0m\u001b[1;32m      6\u001b[0m     \u001b[0;32mreturn\u001b[0m \u001b[0mdf\u001b[0m\u001b[0;34m\u001b[0m\u001b[0;34m\u001b[0m\u001b[0m\n\u001b[1;32m      7\u001b[0m \u001b[0;34m\u001b[0m\u001b[0m\n",
            "\u001b[0;32m/usr/local/lib/python3.11/dist-packages/pandas/io/parsers/readers.py\u001b[0m in \u001b[0;36mread_csv\u001b[0;34m(filepath_or_buffer, sep, delimiter, header, names, index_col, usecols, dtype, engine, converters, true_values, false_values, skipinitialspace, skiprows, skipfooter, nrows, na_values, keep_default_na, na_filter, verbose, skip_blank_lines, parse_dates, infer_datetime_format, keep_date_col, date_parser, date_format, dayfirst, cache_dates, iterator, chunksize, compression, thousands, decimal, lineterminator, quotechar, quoting, doublequote, escapechar, comment, encoding, encoding_errors, dialect, on_bad_lines, delim_whitespace, low_memory, memory_map, float_precision, storage_options, dtype_backend)\u001b[0m\n\u001b[1;32m   1024\u001b[0m     \u001b[0mkwds\u001b[0m\u001b[0;34m.\u001b[0m\u001b[0mupdate\u001b[0m\u001b[0;34m(\u001b[0m\u001b[0mkwds_defaults\u001b[0m\u001b[0;34m)\u001b[0m\u001b[0;34m\u001b[0m\u001b[0;34m\u001b[0m\u001b[0m\n\u001b[1;32m   1025\u001b[0m \u001b[0;34m\u001b[0m\u001b[0m\n\u001b[0;32m-> 1026\u001b[0;31m     \u001b[0;32mreturn\u001b[0m \u001b[0m_read\u001b[0m\u001b[0;34m(\u001b[0m\u001b[0mfilepath_or_buffer\u001b[0m\u001b[0;34m,\u001b[0m \u001b[0mkwds\u001b[0m\u001b[0;34m)\u001b[0m\u001b[0;34m\u001b[0m\u001b[0;34m\u001b[0m\u001b[0m\n\u001b[0m\u001b[1;32m   1027\u001b[0m \u001b[0;34m\u001b[0m\u001b[0m\n\u001b[1;32m   1028\u001b[0m \u001b[0;34m\u001b[0m\u001b[0m\n",
            "\u001b[0;32m/usr/local/lib/python3.11/dist-packages/pandas/io/parsers/readers.py\u001b[0m in \u001b[0;36m_read\u001b[0;34m(filepath_or_buffer, kwds)\u001b[0m\n\u001b[1;32m    618\u001b[0m \u001b[0;34m\u001b[0m\u001b[0m\n\u001b[1;32m    619\u001b[0m     \u001b[0;31m# Create the parser.\u001b[0m\u001b[0;34m\u001b[0m\u001b[0;34m\u001b[0m\u001b[0m\n\u001b[0;32m--> 620\u001b[0;31m     \u001b[0mparser\u001b[0m \u001b[0;34m=\u001b[0m \u001b[0mTextFileReader\u001b[0m\u001b[0;34m(\u001b[0m\u001b[0mfilepath_or_buffer\u001b[0m\u001b[0;34m,\u001b[0m \u001b[0;34m**\u001b[0m\u001b[0mkwds\u001b[0m\u001b[0;34m)\u001b[0m\u001b[0;34m\u001b[0m\u001b[0;34m\u001b[0m\u001b[0m\n\u001b[0m\u001b[1;32m    621\u001b[0m \u001b[0;34m\u001b[0m\u001b[0m\n\u001b[1;32m    622\u001b[0m     \u001b[0;32mif\u001b[0m \u001b[0mchunksize\u001b[0m \u001b[0;32mor\u001b[0m \u001b[0miterator\u001b[0m\u001b[0;34m:\u001b[0m\u001b[0;34m\u001b[0m\u001b[0;34m\u001b[0m\u001b[0m\n",
            "\u001b[0;32m/usr/local/lib/python3.11/dist-packages/pandas/io/parsers/readers.py\u001b[0m in \u001b[0;36m__init__\u001b[0;34m(self, f, engine, **kwds)\u001b[0m\n\u001b[1;32m   1618\u001b[0m \u001b[0;34m\u001b[0m\u001b[0m\n\u001b[1;32m   1619\u001b[0m         \u001b[0mself\u001b[0m\u001b[0;34m.\u001b[0m\u001b[0mhandles\u001b[0m\u001b[0;34m:\u001b[0m \u001b[0mIOHandles\u001b[0m \u001b[0;34m|\u001b[0m \u001b[0;32mNone\u001b[0m \u001b[0;34m=\u001b[0m \u001b[0;32mNone\u001b[0m\u001b[0;34m\u001b[0m\u001b[0;34m\u001b[0m\u001b[0m\n\u001b[0;32m-> 1620\u001b[0;31m         \u001b[0mself\u001b[0m\u001b[0;34m.\u001b[0m\u001b[0m_engine\u001b[0m \u001b[0;34m=\u001b[0m \u001b[0mself\u001b[0m\u001b[0;34m.\u001b[0m\u001b[0m_make_engine\u001b[0m\u001b[0;34m(\u001b[0m\u001b[0mf\u001b[0m\u001b[0;34m,\u001b[0m \u001b[0mself\u001b[0m\u001b[0;34m.\u001b[0m\u001b[0mengine\u001b[0m\u001b[0;34m)\u001b[0m\u001b[0;34m\u001b[0m\u001b[0;34m\u001b[0m\u001b[0m\n\u001b[0m\u001b[1;32m   1621\u001b[0m \u001b[0;34m\u001b[0m\u001b[0m\n\u001b[1;32m   1622\u001b[0m     \u001b[0;32mdef\u001b[0m \u001b[0mclose\u001b[0m\u001b[0;34m(\u001b[0m\u001b[0mself\u001b[0m\u001b[0;34m)\u001b[0m \u001b[0;34m->\u001b[0m \u001b[0;32mNone\u001b[0m\u001b[0;34m:\u001b[0m\u001b[0;34m\u001b[0m\u001b[0;34m\u001b[0m\u001b[0m\n",
            "\u001b[0;32m/usr/local/lib/python3.11/dist-packages/pandas/io/parsers/readers.py\u001b[0m in \u001b[0;36m_make_engine\u001b[0;34m(self, f, engine)\u001b[0m\n\u001b[1;32m   1878\u001b[0m                 \u001b[0;32mif\u001b[0m \u001b[0;34m\"b\"\u001b[0m \u001b[0;32mnot\u001b[0m \u001b[0;32min\u001b[0m \u001b[0mmode\u001b[0m\u001b[0;34m:\u001b[0m\u001b[0;34m\u001b[0m\u001b[0;34m\u001b[0m\u001b[0m\n\u001b[1;32m   1879\u001b[0m                     \u001b[0mmode\u001b[0m \u001b[0;34m+=\u001b[0m \u001b[0;34m\"b\"\u001b[0m\u001b[0;34m\u001b[0m\u001b[0;34m\u001b[0m\u001b[0m\n\u001b[0;32m-> 1880\u001b[0;31m             self.handles = get_handle(\n\u001b[0m\u001b[1;32m   1881\u001b[0m                 \u001b[0mf\u001b[0m\u001b[0;34m,\u001b[0m\u001b[0;34m\u001b[0m\u001b[0;34m\u001b[0m\u001b[0m\n\u001b[1;32m   1882\u001b[0m                 \u001b[0mmode\u001b[0m\u001b[0;34m,\u001b[0m\u001b[0;34m\u001b[0m\u001b[0;34m\u001b[0m\u001b[0m\n",
            "\u001b[0;32m/usr/local/lib/python3.11/dist-packages/pandas/io/common.py\u001b[0m in \u001b[0;36mget_handle\u001b[0;34m(path_or_buf, mode, encoding, compression, memory_map, is_text, errors, storage_options)\u001b[0m\n\u001b[1;32m    871\u001b[0m         \u001b[0;32mif\u001b[0m \u001b[0mioargs\u001b[0m\u001b[0;34m.\u001b[0m\u001b[0mencoding\u001b[0m \u001b[0;32mand\u001b[0m \u001b[0;34m\"b\"\u001b[0m \u001b[0;32mnot\u001b[0m \u001b[0;32min\u001b[0m \u001b[0mioargs\u001b[0m\u001b[0;34m.\u001b[0m\u001b[0mmode\u001b[0m\u001b[0;34m:\u001b[0m\u001b[0;34m\u001b[0m\u001b[0;34m\u001b[0m\u001b[0m\n\u001b[1;32m    872\u001b[0m             \u001b[0;31m# Encoding\u001b[0m\u001b[0;34m\u001b[0m\u001b[0;34m\u001b[0m\u001b[0m\n\u001b[0;32m--> 873\u001b[0;31m             handle = open(\n\u001b[0m\u001b[1;32m    874\u001b[0m                 \u001b[0mhandle\u001b[0m\u001b[0;34m,\u001b[0m\u001b[0;34m\u001b[0m\u001b[0;34m\u001b[0m\u001b[0m\n\u001b[1;32m    875\u001b[0m                 \u001b[0mioargs\u001b[0m\u001b[0;34m.\u001b[0m\u001b[0mmode\u001b[0m\u001b[0;34m,\u001b[0m\u001b[0;34m\u001b[0m\u001b[0;34m\u001b[0m\u001b[0m\n",
            "\u001b[0;31mFileNotFoundError\u001b[0m: [Errno 2] No such file or directory: 'train.csv'"
          ]
        }
      ],
      "source": [
        "# Function that loads data from file into dataframe\n",
        "def load_data(file):\n",
        "    df = pd.read_csv(file)\n",
        "    return df\n",
        "\n",
        "X1 = load_data('train.csv')\n",
        "\n",
        "# Data augmentation creating a ratio between Tank width and length\n",
        "X1['Tank W/L Ratio'] = X1['Tank Width (m)'] / X1['Tank Length (m)']\n",
        "\n",
        "# Making sure that there are only valid entries in the Status column\n",
        "X1 = X1[X1['Status'].isin(['Subcooled', 'Superheated'])].copy()\n",
        "\n",
        "# Columns that need to be checked for negative values which are invalid\n",
        "cols_to_check = ['Tank Width (m)', 'Tank Length (m)', 'Tank Height (m)', 'Vapour Height (m)',\n",
        "                     'BLEVE Height (m)', 'Obstacle Distance to BLEVE (m)', 'Obstacle Width (m)',\n",
        "                     'Obstacle Height (m)', 'Obstacle Thickness (m)', 'Sensor ID']\n",
        "\n",
        "# Making sure no negatives in relative data entries\n",
        "for col in cols_to_check:\n",
        "    X1 = X1[X1[col] >= 0]\n",
        "\n",
        "# Dropping number column\n",
        "X1 = X1.drop(columns=['Unnamed: 0'])\n",
        "\n",
        "# Filling in missing number entries with the median\n",
        "number_columns = X1.select_dtypes(include=[np.number]).columns\n",
        "X1[number_columns] = X1[number_columns].fillna(X1[number_columns].median())\n",
        "\n",
        "# Filling in missing category entries with the mode\n",
        "category_columns = X1.select_dtypes(include=['object']).columns\n",
        "X1[category_columns] = X1[category_columns].fillna(X1[category_columns].mode().iloc[0])\n",
        "\n",
        "# Removing duplicate rows\n",
        "X1 = X1.drop_duplicates()\n",
        "\n",
        "# Function to remove outliers by calculating the Interquartile Range\n",
        "def limit_outliers(df):\n",
        "    for column in df.select_dtypes(include=['number']).columns:\n",
        "        Q1 = df[column].quantile(0.25)\n",
        "        Q3 = df[column].quantile(0.75)\n",
        "        IQR = Q3 - Q1\n",
        "        lower_bound = Q1 - 1.5 * IQR\n",
        "        upper_bound = Q3 + 1.5 * IQR\n",
        "\n",
        "        # If outliers exist those entries are replaced with the relative bounds to maximise training data\n",
        "        df.loc[:, column] = np.where(df[column] < lower_bound, lower_bound,\n",
        "                     np.where(df[column] > upper_bound, upper_bound, df[column]))\n",
        "    return df\n",
        "\n",
        "X1 = limit_outliers(X1)\n",
        "\n",
        "# One-hot encoding status entries and converting values into binary\n",
        "X1 = pd.get_dummies(X1, columns=['Status'], drop_first=True)\n",
        "X1['Status_Superheated'] = X1['Status_Superheated'].astype(int)\n",
        "\n",
        "# Encoding Obstacle Angle as sine and cosine\n",
        "# Converting angles into radians first\n",
        "radians = np.deg2rad(X1['Obstacle Angle'])\n",
        "X1['Obstacle Angle Sin'] = np.sin(radians)\n",
        "X1['Obstacle Angle Cos'] = np.cos(radians)\n",
        "\n",
        "# Dropping original Obstacle Angle column\n",
        "X1.drop(columns=['Obstacle Angle'], inplace=True)\n",
        "\n",
        "# Creating new dataframe for scaling\n",
        "X2 = X1\n",
        "\n",
        "# One-hot encoding Sensor ID and converting values into binary\n",
        "X2 = pd.get_dummies(X2, columns=['Sensor ID'], prefix='Sensor')\n",
        "\n",
        "# Removing Sensor ID names that were converted from a float\n",
        "X2.columns = [col.replace('.0', '') for col in X2.columns]\n",
        "\n",
        "# Finding new columns made from one-hot encoding\n",
        "sensor_columns = [col for col in X2.columns if col.startswith('Sensor_')]\n",
        "X2[sensor_columns] = X2[sensor_columns].astype(int)\n",
        "\n",
        "# Separating features that need scaling from those that don't and saving the original order\n",
        "original_order = X2.columns.tolist()\n",
        "features_to_leave = sensor_columns + ['Target Pressure (bar)', 'Liquid Ratio', 'Status_Superheated', 'Sensor Position Side', 'Tank W/L Ratio']\n",
        "features_to_scale = X2.drop(columns=features_to_leave).columns.tolist()\n",
        "\n",
        "# Scaling the features\n",
        "scaler = StandardScaler()\n",
        "X2_scaled = scaler.fit_transform(X2[features_to_scale])\n",
        "\n",
        "# Combining scaled and unscaled features\n",
        "X2_scaled = np.concatenate([X2_scaled, X2[features_to_leave].values], axis=1)\n",
        "\n",
        "# Making the dataframe with the correct names in order\n",
        "X2 = pd.DataFrame(X2_scaled, columns=features_to_scale + features_to_leave)\n",
        "X2 = X2[original_order]\n"
      ]
    },
    {
      "cell_type": "markdown",
      "source": [
        "Training Linear Regression Model"
      ],
      "metadata": {
        "id": "YB2zqHL5xW-h"
      }
    },
    {
      "cell_type": "code",
      "source": [
        "# Creating training data on scaled features\n",
        "y = X2['Target Pressure (bar)']\n",
        "X = X2.drop(columns=['Target Pressure (bar)'])\n",
        "\n",
        "X_train, X_test, y_train, y_test = train_test_split(X, y, test_size=0.2, random_state=42)\n",
        "\n",
        "# Creating Linear Regression Model\n",
        "model = LinearRegression()\n",
        "\n",
        "# Training model\n",
        "model.fit(X_train, y_train)\n",
        "y_prediction = model.predict(X_test)\n",
        "y_prediction_training = model.predict(X_train)\n",
        "\n",
        "# Calculating Mean Average Percentage Error (MAPE) and R²\n",
        "mape = mean_absolute_percentage_error(y_test, y_prediction)\n",
        "mape_training = mean_absolute_percentage_error(y_train, y_prediction_training)\n",
        "r2 = r2_score(y_test, y_prediction)\n",
        "\n",
        "print(f'MAPE: {mape:.5f}')\n",
        "print(f'R² Score: {r2:.5f}')\n",
        "\n",
        "# Plotting the actual and predicted Peak Pressure\n",
        "plt.figure(figsize=(6,6))\n",
        "sns.scatterplot(x=y_test, y=y_prediction)\n",
        "plt.plot([y_test.min(), y_test.max()], [y_test.min(), y_test.max()], 'r--')  # Diagonal line\n",
        "plt.xlabel('Actual Peak Pressure (bar)')\n",
        "plt.ylabel('Predicted Peak Pressure (bar)')\n",
        "plt.title('Actual vs Predicted Peak Pressure')\n",
        "plt.show()"
      ],
      "metadata": {
        "colab": {
          "base_uri": "https://localhost:8080/",
          "height": 600
        },
        "collapsed": true,
        "id": "RjSq4U8OekHj",
        "outputId": "ccda9804-c712-42da-b597-6980e2c73f90"
      },
      "execution_count": 48,
      "outputs": [
        {
          "output_type": "stream",
          "name": "stdout",
          "text": [
            "MAPE: 0.57267\n",
            "R² Score: 0.79235\n"
          ]
        },
        {
          "output_type": "display_data",
          "data": {
            "text/plain": [
              "<Figure size 600x600 with 1 Axes>"
            ],
            "image/png": "[encoded data removed]"
          },
          "metadata": {}
        }
      ]
    },
    {
      "cell_type": "markdown",
      "source": [
        "Testing Linear Regression Model"
      ],
      "metadata": {
        "id": "S2cvnfo2xhc_"
      }
    },
    {
      "cell_type": "code",
      "source": [
        "# Loading test data\n",
        "test = pd.read_csv('test.csv')\n",
        "\n",
        "# Preprocessing data so it matches the data the model was trained on\n",
        "test['Tank W/L Ratio'] = test['Tank Width (m)'] / test['Tank Length (m)']\n",
        "test = test.drop(columns=['Unnamed: 0'])\n",
        "test = pd.get_dummies(test, columns=['Status'], drop_first=True)\n",
        "test['Status_Superheated'] = test['Status_Superheated'].astype(int)\n",
        "angles_rad = np.deg2rad(test['Obstacle Angle'])\n",
        "test['Obstacle Angle Sin'] = np.sin(angles_rad)\n",
        "test['Obstacle Angle Cos'] = np.cos(angles_rad)\n",
        "test.drop(columns=['Obstacle Angle'], inplace=True)\n",
        "test = pd.get_dummies(test, columns=['Sensor ID'], prefix='Sensor')\n",
        "sensor_columns = [col for col in test.columns if col.startswith('Sensor_')]\n",
        "test[sensor_columns] = test[sensor_columns].astype(int)\n",
        "original_order = test.columns.tolist()\n",
        "features_to_leave = sensor_columns + ['Liquid Ratio', 'Status_Superheated', 'Sensor Position Side', 'Tank W/L Ratio']\n",
        "features_to_scale = test.drop(columns=features_to_leave).columns.tolist()\n",
        "test_scaled = scaler.transform(test[features_to_scale])\n",
        "test_scaled = np.concatenate([test_scaled, test[features_to_leave].values], axis=1)\n",
        "test = pd.DataFrame(test_scaled, columns=features_to_scale + features_to_leave)\n",
        "test = test[original_order]\n",
        "\n",
        "# Predicting results using trained model\n",
        "y_prediction = model.predict(test)\n",
        "\n",
        "# Creating dataframe of predictions\n",
        "predictions = pd.DataFrame({\n",
        "    'ID': range(len(test)),\n",
        "    'Target Pressure (bar)': y_prediction\n",
        "})\n",
        "\n",
        "# Creating CSV file of predictions\n",
        "predictions.to_csv('lr_predictions.csv', index=False)"
      ],
      "metadata": {
        "id": "EAsA_wL6HY9x"
      },
      "execution_count": 49,
      "outputs": []
    },
    {
      "cell_type": "markdown",
      "source": [
        "Linear Regression Prediction Performance"
      ],
      "metadata": {
        "id": "j395XHdZxkZb"
      }
    },
    {
      "cell_type": "code",
      "source": [
        "mape_test = 0.63624\n",
        "\n",
        "# Creating prediction performance table\n",
        "results = pd.DataFrame({\n",
        "    'Dataset': ['Training Set', 'Validation Set', 'Test Set'],\n",
        "    'MAPE': [mape_training, mape, mape_test]\n",
        "})\n",
        "\n",
        "print(results)"
      ],
      "metadata": {
        "colab": {
          "base_uri": "https://localhost:8080/"
        },
        "id": "3QhUs_uAlxbv",
        "outputId": "37e58d90-dbb2-4185-d5b0-819b68fa8d51"
      },
      "execution_count": 50,
      "outputs": [
        {
          "output_type": "stream",
          "name": "stdout",
          "text": [
            "          Dataset     MAPE\n",
            "0    Training Set  0.58080\n",
            "1  Validation Set  0.57267\n",
            "2        Test Set  0.63624\n"
          ]
        }
      ]
    },
    {
      "cell_type": "markdown",
      "source": [
        "Training XGBoost Model"
      ],
      "metadata": {
        "id": "Ols1ftCSxrNs"
      }
    },
    {
      "cell_type": "code",
      "source": [
        "# Creating training data on original data with no scaling\n",
        "X = X1.drop(columns=['Target Pressure (bar)'])\n",
        "y = X1['Target Pressure (bar)']\n",
        "\n",
        "X_train, X_test, y_train, y_test = train_test_split(X, y, test_size=0.2, random_state=42)\n",
        "\n",
        "# Creating XGBoost model\n",
        "xgb_model = xgb.XGBRegressor(\n",
        "    tree_method='hist',\n",
        "    n_jobs=-1,\n",
        "    random_state=42\n",
        ")\n",
        "\n",
        "# Creating Hyperparameter ranges for model\n",
        "Hyperparameters = {\n",
        "\n",
        "    # Number of trees\n",
        "    'n_estimators': [100, 300, 600, 900, 1200],\n",
        "    'learning_rate': [0.01, 0.05, 0.1, 0.2],\n",
        "    'max_depth': [3, 5, 7],\n",
        "\n",
        "    # Fraction of data for each tree\n",
        "    'subsample': [0.7, 0.8, 0.9, 1.0],\n",
        "\n",
        "    # L1 regularisation\n",
        "    'reg_alpha': [0, 0.1, 1]\n",
        "}\n",
        "\n",
        "# Creating Randomized Search Cross-Validation for finding best Hyperparameters\n",
        "random_search = RandomizedSearchCV(\n",
        "    xgb_model, Hyperparameters,\n",
        "\n",
        "    # Number of Hyperparameter setting combinations to try\n",
        "    n_iter=50,\n",
        "\n",
        "    # Metric of testing best Hyperparameters\n",
        "    scoring='r2',\n",
        "\n",
        "    # Number of cross-validation folds\n",
        "    cv=5,\n",
        "\n",
        "    # Uses all CPUs for parallel processing\n",
        "    n_jobs=-1,\n",
        "    verbose=2,\n",
        "    random_state=42\n",
        ")\n",
        "\n",
        "# Randomized Searching\n",
        "random_search.fit(X_train, y_train)\n",
        "\n",
        "print(\"Best R² Score:\", random_search.best_score_)\n",
        "print(\"Best Hyperparameters:\", random_search.best_params_)\n",
        "\n",
        "# Creating the model with the best hyperparameters from the search\n",
        "best_xgb_model = random_search.best_estimator_\n",
        "\n",
        "# Predicting results\n",
        "y_prediction = best_xgb_model.predict(X_test)\n",
        "y_prediction_training = best_xgb_model.predict(X_train)\n",
        "\n",
        "# Calculating Mean Average Percentage Error (MAPE) and R²\n",
        "mape = mean_absolute_percentage_error(y_test, y_prediction)\n",
        "mape_training = mean_absolute_percentage_error(y_train, y_prediction_training)\n",
        "r2 = r2_score(y_test, y_prediction)\n",
        "\n",
        "print(f'MAPE: {mape:.5f}')\n",
        "print(f'R² Score: {r2:.5f}')"
      ],
      "metadata": {
        "colab": {
          "base_uri": "https://localhost:8080/"
        },
        "collapsed": true,
        "id": "R9S9fMZkekec",
        "outputId": "ad29a85b-8946-4765-988f-cf330a7dd1fd"
      },
      "execution_count": 43,
      "outputs": [
        {
          "output_type": "stream",
          "name": "stdout",
          "text": [
            "Fitting 5 folds for each of 50 candidates, totalling 250 fits\n",
            "Best R² Score: 0.9627925090288434\n",
            "Best Hyperparameters: {'subsample': 0.9, 'reg_alpha': 0.1, 'n_estimators': 900, 'max_depth': 7, 'learning_rate': 0.05}\n",
            "MAPE: 0.11828\n",
            "R² Score: 0.96986\n"
          ]
        }
      ]
    },
    {
      "cell_type": "markdown",
      "source": [
        "Testing XGBoost Model"
      ],
      "metadata": {
        "id": "gcHlzAInxuwj"
      }
    },
    {
      "cell_type": "code",
      "source": [
        "# Loading test data\n",
        "test = pd.read_csv('test.csv')\n",
        "\n",
        "# Preprocessing data so it matches the data the model was trained on\n",
        "test = test.drop(columns=['Unnamed: 0'])\n",
        "test['Tank W/L Ratio'] = test['Tank Width (m)'] / test['Tank Length (m)']\n",
        "test = pd.get_dummies(test, columns=['Status'], drop_first=True)\n",
        "test['Status_Superheated'] = test['Status_Superheated'].astype(int)\n",
        "angles_rad = np.deg2rad(test['Obstacle Angle'])\n",
        "test['Obstacle Angle Sin'] = np.sin(angles_rad)\n",
        "test['Obstacle Angle Cos'] = np.cos(angles_rad)\n",
        "test.drop(columns=['Obstacle Angle'], inplace=True)\n",
        "\n",
        "# Predicting results using trained XGBoost model\n",
        "y_prediction = best_xgb_model.predict(test)\n",
        "\n",
        "# Creating dataframe of predictions\n",
        "prediction = pd.DataFrame({\n",
        "    'ID': range(len(test)),\n",
        "    'Target Pressure (bar)': y_prediction\n",
        "})\n",
        "\n",
        "# Creating CSV file of predictions\n",
        "prediction.to_csv('xgboost_predictions.csv', index=False)"
      ],
      "metadata": {
        "id": "orlPWApT1rO2"
      },
      "execution_count": 44,
      "outputs": []
    },
    {
      "cell_type": "markdown",
      "source": [
        "XGBoost Model Prediction Performance"
      ],
      "metadata": {
        "id": "YLd9SbhZxxMl"
      }
    },
    {
      "cell_type": "code",
      "source": [
        "mape_test = 0.26832\n",
        "\n",
        "# Creating prediction performance table\n",
        "results = pd.DataFrame({\n",
        "    'Dataset': ['Training Set', 'Validation Set', 'Test Set'],\n",
        "    'MAPE': [mape_training, mape, mape_test]\n",
        "})\n",
        "\n",
        "print(results)"
      ],
      "metadata": {
        "colab": {
          "base_uri": "https://localhost:8080/"
        },
        "id": "tN6Z6Z4GmpFa",
        "outputId": "bb4ef84e-0520-488c-ab1c-994b595ddc78"
      },
      "execution_count": 45,
      "outputs": [
        {
          "output_type": "stream",
          "name": "stdout",
          "text": [
            "          Dataset      MAPE\n",
            "0    Training Set  0.038808\n",
            "1  Validation Set  0.118284\n",
            "2        Test Set  0.268320\n"
          ]
        }
      ]
    },
    {
      "cell_type": "markdown",
      "source": [
        "Training Deep Neural Network Model"
      ],
      "metadata": {
        "id": "hIO_Xya9x4Pm"
      }
    },
    {
      "cell_type": "code",
      "source": [
        "# Creating training data\n",
        "y = X2['Target Pressure (bar)']\n",
        "X = X2.drop(columns = ['Target Pressure (bar)'])\n",
        "\n",
        "X_train, X_test, y_train, y_test = train_test_split(X, y, test_size=0.2, random_state=42)\n",
        "\n",
        "# Creating KFold object for cross-validation\n",
        "kf = KFold(n_splits=5, shuffle=True, random_state=42)\n",
        "\n",
        "# Arrays for storing results\n",
        "mape_scores = []\n",
        "mape_training_scores = []\n",
        "r2_scores = []\n",
        "\n",
        "# Looping over each fold\n",
        "for fold, (train_index, test_index) in enumerate(kf.split(X_train)):\n",
        "\n",
        "    # Creating training and validation split for the fold\n",
        "    X_train_fold, X_test_fold = X_train.iloc[train_index], X_train.iloc[test_index]\n",
        "    y_train_fold, y_test_fold = y_train.iloc[train_index], y_train.iloc[test_index]\n",
        "\n",
        "    # Creating Sequential model\n",
        "    def create_model():\n",
        "      model = Sequential()\n",
        "\n",
        "      # Input Layer\n",
        "      model.add(Input(shape=(X.shape[1],)))\n",
        "\n",
        "      # Hidden Layers\n",
        "      # L2 Regularisation to prevent overfitting\n",
        "      # Batch Normalisation for generalisation\n",
        "      model.add(Dense(256, activation='relu', kernel_regularizer=l2(0.001)))\n",
        "      model.add(BatchNormalization())\n",
        "\n",
        "      model.add(Dense(128, activation='relu', kernel_regularizer=l2(0.001)))\n",
        "\n",
        "      model.add(Dense(64, activation='relu', kernel_regularizer=l2(0.001)))\n",
        "\n",
        "      model.add(Dense(32, activation='relu', kernel_regularizer=l2(0.001)))\n",
        "\n",
        "      # Output Layer with Linear Activation for Regression\n",
        "      model.add(Dense(1, activation='linear'))\n",
        "\n",
        "      # Compiling model with Adam Optimiser\n",
        "      model.compile(optimizer=Adam(learning_rate=0.0005), loss='mean_absolute_error', metrics=['mape'])\n",
        "      return model\n",
        "\n",
        "    # Creating the model\n",
        "    model = create_model()\n",
        "\n",
        "    # Creating an EarlyStopping callback to prevent overfitting\n",
        "    early_stop = EarlyStopping(monitor='val_loss', patience=10, restore_best_weights=True)\n",
        "\n",
        "    # Training the model\n",
        "    history = model.fit(\n",
        "        X_train_fold, y_train_fold,\n",
        "        epochs=100, batch_size=32,\n",
        "        validation_data=(X_test_fold, y_test_fold),\n",
        "        verbose=0,\n",
        "        callbacks=[early_stop]\n",
        "    )\n",
        "\n",
        "    # Predicting results\n",
        "    y_prediction = model.predict(X_test_fold).flatten()\n",
        "    y_prediction_training = model.predict(X_train_fold).flatten()\n",
        "\n",
        "    # Calculating MAPE and R²\n",
        "    mape = mean_absolute_percentage_error(y_test_fold, y_prediction)\n",
        "    mape_training = mean_absolute_percentage_error(y_train_fold, y_prediction_training)\n",
        "    r2 = r2_score(y_test_fold, y_prediction)\n",
        "\n",
        "    print(f'Fold {fold + 1} - MAPE: {mape:.5f}, R²: {r2:.5f}')\n",
        "\n",
        "    # Storing scores\n",
        "    mape_scores.append(mape)\n",
        "    mape_training_scores.append(mape_training)\n",
        "    r2_scores.append(r2)\n",
        "\n",
        "# Calculating the averages of the Mean Average Percentage Error (Mape) and R²\n",
        "average_mape = np.mean(mape_scores)\n",
        "average_mape_training = np.mean(mape_training_scores)\n",
        "average_r2 = np.mean(r2_scores)\n",
        "\n",
        "print(f\"Average MAPE score: {average_mape:.5f}\")\n",
        "print(f\"Average R² score: {average_r2:.5f}\")"
      ],
      "metadata": {
        "colab": {
          "base_uri": "https://localhost:8080/"
        },
        "id": "PrpuaquOFDnq",
        "outputId": "9efec5e2-5293-418f-f3a2-ed13ae987a97"
      },
      "execution_count": 51,
      "outputs": [
        {
          "output_type": "stream",
          "name": "stdout",
          "text": [
            "\u001b[1m49/49\u001b[0m \u001b[32m━━━━━━━━━━━━━━━━━━━━\u001b[0m\u001b[37m\u001b[0m \u001b[1m0s\u001b[0m 3ms/step\n",
            "\u001b[1m196/196\u001b[0m \u001b[32m━━━━━━━━━━━━━━━━━━━━\u001b[0m\u001b[37m\u001b[0m \u001b[1m0s\u001b[0m 1ms/step\n",
            "Fold 1 - MAPE: 0.13181, R²: 0.96437\n",
            "\u001b[1m49/49\u001b[0m \u001b[32m━━━━━━━━━━━━━━━━━━━━\u001b[0m\u001b[37m\u001b[0m \u001b[1m0s\u001b[0m 3ms/step\n",
            "\u001b[1m196/196\u001b[0m \u001b[32m━━━━━━━━━━━━━━━━━━━━\u001b[0m\u001b[37m\u001b[0m \u001b[1m0s\u001b[0m 1ms/step\n",
            "Fold 2 - MAPE: 0.11498, R²: 0.97388\n",
            "\u001b[1m49/49\u001b[0m \u001b[32m━━━━━━━━━━━━━━━━━━━━\u001b[0m\u001b[37m\u001b[0m \u001b[1m0s\u001b[0m 5ms/step\n",
            "\u001b[1m196/196\u001b[0m \u001b[32m━━━━━━━━━━━━━━━━━━━━\u001b[0m\u001b[37m\u001b[0m \u001b[1m0s\u001b[0m 2ms/step\n",
            "Fold 3 - MAPE: 0.11128, R²: 0.97726\n",
            "\u001b[1m49/49\u001b[0m \u001b[32m━━━━━━━━━━━━━━━━━━━━\u001b[0m\u001b[37m\u001b[0m \u001b[1m0s\u001b[0m 5ms/step\n",
            "\u001b[1m196/196\u001b[0m \u001b[32m━━━━━━━━━━━━━━━━━━━━\u001b[0m\u001b[37m\u001b[0m \u001b[1m0s\u001b[0m 2ms/step\n",
            "Fold 4 - MAPE: 0.11591, R²: 0.97119\n",
            "\u001b[1m49/49\u001b[0m \u001b[32m━━━━━━━━━━━━━━━━━━━━\u001b[0m\u001b[37m\u001b[0m \u001b[1m0s\u001b[0m 5ms/step\n",
            "\u001b[1m196/196\u001b[0m \u001b[32m━━━━━━━━━━━━━━━━━━━━\u001b[0m\u001b[37m\u001b[0m \u001b[1m0s\u001b[0m 1ms/step\n",
            "Fold 5 - MAPE: 0.11785, R²: 0.97369\n",
            "Average MAPE score: 0.11837\n",
            "Average R² score: 0.97208\n"
          ]
        }
      ]
    },
    {
      "cell_type": "markdown",
      "source": [
        "Testing Deep Neural Network Model"
      ],
      "metadata": {
        "id": "BqE4NjNEx7FV"
      }
    },
    {
      "cell_type": "code",
      "source": [
        "# Loading test data\n",
        "test = pd.read_csv('test.csv')\n",
        "\n",
        "# Preprocessing data so it matches the data the model was trained on\n",
        "test['Tank W/L Ratio'] = test['Tank Width (m)'] / test['Tank Length (m)']\n",
        "test = test.drop(columns=['Unnamed: 0'])\n",
        "test = pd.get_dummies(test, columns=['Status'], drop_first=True)\n",
        "test['Status_Superheated'] = test['Status_Superheated'].astype(int)\n",
        "angles_rad = np.deg2rad(test['Obstacle Angle'])\n",
        "test['Obstacle Angle Sin'] = np.sin(angles_rad)\n",
        "test['Obstacle Angle Cos'] = np.cos(angles_rad)\n",
        "test.drop(columns=['Obstacle Angle'], inplace=True)\n",
        "test = pd.get_dummies(test, columns=['Sensor ID'], prefix='Sensor')\n",
        "sensor_columns = [col for col in test.columns if col.startswith('Sensor_')]\n",
        "test[sensor_columns] = test[sensor_columns].astype(int)\n",
        "original_order = test.columns.tolist()\n",
        "features_to_leave = sensor_columns + ['Liquid Ratio', 'Status_Superheated', 'Sensor Position Side', 'Tank W/L Ratio']\n",
        "features_to_scale = test.drop(columns=features_to_leave).columns.tolist()\n",
        "test_scaled = scaler.transform(test[features_to_scale])\n",
        "test_scaled = np.concatenate([test_scaled, test[features_to_leave].values], axis=1)\n",
        "test = pd.DataFrame(test_scaled, columns=features_to_scale + features_to_leave)\n",
        "test = test[original_order]\n",
        "\n",
        "# Predicting results using trained model\n",
        "y_prediction = model.predict(test).flatten()\n",
        "\n",
        "# Creating dataframe of predictions\n",
        "predictions = pd.DataFrame({\n",
        "    'ID': range(len(test)),\n",
        "    'Target Pressure (bar)': y_prediction\n",
        "})\n",
        "\n",
        "# Creating CSV file of predictions\n",
        "predictions.to_csv('nn_predictions.csv', index=False)"
      ],
      "metadata": {
        "colab": {
          "base_uri": "https://localhost:8080/"
        },
        "id": "IuM5rhgxBO7u",
        "outputId": "1fded385-4355-4fa8-8c29-a47708291f90"
      },
      "execution_count": 52,
      "outputs": [
        {
          "output_type": "stream",
          "name": "stdout",
          "text": [
            "\u001b[1m101/101\u001b[0m \u001b[32m━━━━━━━━━━━━━━━━━━━━\u001b[0m\u001b[37m\u001b[0m \u001b[1m0s\u001b[0m 2ms/step\n"
          ]
        }
      ]
    },
    {
      "cell_type": "markdown",
      "source": [
        "Deep Neural Network Model Prediction Performance"
      ],
      "metadata": {
        "id": "NFHRRy1Lx9ja"
      }
    },
    {
      "cell_type": "code",
      "source": [
        "mape_test = 0.19553\n",
        "\n",
        "# Creating prediction performance table\n",
        "results = pd.DataFrame({\n",
        "    'Dataset': ['Training Set', 'Validation Set', 'Test Set'],\n",
        "    'MAPE': [average_mape_training, average_mape, mape_test]\n",
        "})\n",
        "\n",
        "print(results)"
      ],
      "metadata": {
        "colab": {
          "base_uri": "https://localhost:8080/"
        },
        "id": "47KRYS6CpLpw",
        "outputId": "07eb09bc-e696-4182-9557-fcf866f93854"
      },
      "execution_count": 53,
      "outputs": [
        {
          "output_type": "stream",
          "name": "stdout",
          "text": [
            "          Dataset      MAPE\n",
            "0    Training Set  0.099534\n",
            "1  Validation Set  0.118366\n",
            "2        Test Set  0.195530\n"
          ]
        }
      ]
    }
  ]
}